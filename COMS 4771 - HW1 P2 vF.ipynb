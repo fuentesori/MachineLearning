{
 "cells": [
  {
   "cell_type": "code",
   "execution_count": 1,
   "metadata": {
    "collapsed": true
   },
   "outputs": [],
   "source": [
    "from scipy.io import loadmat\n",
    "from scipy import stats\n",
    "ocr = loadmat('ocr.mat')\n",
    "import matplotlib.pyplot as plt\n",
    "from matplotlib import cm\n",
    "import numpy as np\n",
    "import random\n",
    "import time"
   ]
  },
  {
   "cell_type": "code",
   "execution_count": 2,
   "metadata": {
    "collapsed": false
   },
   "outputs": [],
   "source": [
    "def getselection(labelfreq,m,iterations):    \n",
    "    for sample in m:\n",
    "        for j in range(iterations):       \n",
    "            a=0\n",
    "            newsel=[]\n",
    "            n = int(sample/10)\n",
    "            #10 iterations for 10 digits\n",
    "            for i in range(10):\n",
    "                sel= random.sample(list(np.arange(a,(labelfreq[i][1]-1+a))),  n)\n",
    "                newsel.append(sel)\n",
    "                a= a+(labelfreq[i][1])\n",
    "            newsel = np.ravel(np.array(newsel))\n",
    "            newdata = datalabels[newsel,1:785]\n",
    "            newlabels = datalabels[newsel,0]\n",
    "            preds = functionProblem1(newdata,newlabels,ocr['testdata'])\n",
    "            error = checking(preds,ocr)\n",
    "            errormatrix.append(error)      \n",
    "    return errormatrix"
   ]
  },
  {
   "cell_type": "code",
   "execution_count": 3,
   "metadata": {
    "collapsed": false
   },
   "outputs": [],
   "source": [
    "def functionProblem1(dataR,labelsR,testdata):\n",
    "    dataR = dataR.astype(np.float64)\n",
    "    test2 = np.array(testdata).astype(np.float64)\n",
    "    base = (-2)*(np.dot(dataR,test2.T)) + np.vstack(np.sum(np.square(dataR),axis=1))\n",
    "    base = np.sqrt(base.T + np.vstack(np.sum(np.square(test2),axis=1)))\n",
    "    preds = labelsR[np.argmin(base,axis=1)]\n",
    "    return preds"
   ]
  },
  {
   "cell_type": "code",
   "execution_count": 4,
   "metadata": {
    "collapsed": true
   },
   "outputs": [],
   "source": [
    "def checking(preds,ocr):\n",
    "    check3 = (np.vstack(preds.astype(np.int8))) - (ocr['testlabels'].astype(np.int8))\n",
    "    error = (np.sum(check3.astype(np.bool)))/len(preds)\n",
    "    return error"
   ]
  },
  {
   "cell_type": "code",
   "execution_count": 5,
   "metadata": {
    "collapsed": false
   },
   "outputs": [
    {
     "name": "stdout",
     "output_type": "stream",
     "text": [
      "Error Matrix\n",
      "[1000, 2000, 4000, 8000]\n",
      "[[ 0.1072  0.0807  0.0691  0.0562]\n",
      " [ 0.1156  0.0855  0.0675  0.0563]\n",
      " [ 0.109   0.0852  0.0713  0.0554]\n",
      " [ 0.1127  0.0902  0.067   0.0562]\n",
      " [ 0.1178  0.0853  0.0671  0.0533]\n",
      " [ 0.1133  0.0857  0.0691  0.0554]\n",
      " [ 0.1212  0.0856  0.067   0.0531]\n",
      " [ 0.1113  0.083   0.0729  0.0554]\n",
      " [ 0.1139  0.0848  0.0731  0.0578]\n",
      " [ 0.1088  0.0868  0.0684  0.0538]]\n",
      "Standard Errors\n",
      "[ 0.00410044  0.00230773  0.00225666  0.00141382]\n",
      "Sample means\n",
      "[ 0.11308  0.08528  0.06925  0.05529]\n",
      "--- 481.6837315559387 seconds ---\n"
     ]
    }
   ],
   "source": [
    "start_time = time.time()\n",
    "\n",
    "m = [1000, 2000, 4000, 8000]\n",
    "iterations = 10\n",
    "errormatrix=[]\n",
    "\n",
    "labelfreq = np.array(stats.itemfreq(ocr['labels']))\n",
    "datalabels = (np.concatenate((np.array(ocr['labels']),np.array(ocr['data'])), axis=1)).astype(np.float64)\n",
    "datalabels = datalabels[np.argsort(datalabels[:,0])]\n",
    "\n",
    "errormatrix = getselection(labelfreq, m, iterations)\n",
    "\n",
    "errormatrix = np.reshape(np.array(errormatrix),(len(m),iterations)).T\n",
    "stderror = np.std(errormatrix,axis=0)\n",
    "meanerror =  np.mean(errormatrix, axis=0)\n",
    "\n",
    "print(\"Error Matrix\")\n",
    "print(m)\n",
    "print(errormatrix)\n",
    "print(\"Standard Errors\")\n",
    "print(stderror)\n",
    "print(\"Sample means\")\n",
    "print(meanerror)\n",
    "plt.errorbar(m,meanerror,stderror)\n",
    "plt.axis([0,10000,0,0.15])\n",
    "print(\"--- %s seconds ---\" % (time.time() - start_time))\n",
    "plt.show()"
   ]
  },
  {
   "cell_type": "code",
   "execution_count": 6,
   "metadata": {
    "collapsed": false
   },
   "outputs": [
    {
     "name": "stdout",
     "output_type": "stream",
     "text": [
      "[[   0 5923]\n",
      " [   1 6742]\n",
      " [   2 5958]\n",
      " [   3 6131]\n",
      " [   4 5842]\n",
      " [   5 5421]\n",
      " [   6 5918]\n",
      " [   7 6265]\n",
      " [   8 5851]\n",
      " [   9 5949]]\n"
     ]
    }
   ],
   "source": [
    "labelfreq = np.array(stats.itemfreq(ocr['labels']))\n",
    "print(labelfreq)"
   ]
  },
  {
   "cell_type": "code",
   "execution_count": null,
   "metadata": {
    "collapsed": true
   },
   "outputs": [],
   "source": []
  }
 ],
 "metadata": {
  "anaconda-cloud": {},
  "kernelspec": {
   "display_name": "Python [Root]",
   "language": "python",
   "name": "Python [Root]"
  },
  "language_info": {
   "codemirror_mode": {
    "name": "ipython",
    "version": 3
   },
   "file_extension": ".py",
   "mimetype": "text/x-python",
   "name": "python",
   "nbconvert_exporter": "python",
   "pygments_lexer": "ipython3",
   "version": "3.5.1"
  }
 },
 "nbformat": 4,
 "nbformat_minor": 0
}
