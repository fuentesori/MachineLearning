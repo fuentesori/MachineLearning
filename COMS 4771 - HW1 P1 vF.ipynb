{
 "cells": [
  {
   "cell_type": "code",
   "execution_count": 1,
   "metadata": {
    "collapsed": false
   },
   "outputs": [],
   "source": [
    "from scipy.io import loadmat\n",
    "ocr = loadmat('ocr.mat')\n",
    "import matplotlib.pyplot as plt\n",
    "from matplotlib import cm\n",
    "import numpy as np\n",
    "import random\n",
    "import time"
   ]
  },
  {
   "cell_type": "code",
   "execution_count": 2,
   "metadata": {
    "collapsed": true
   },
   "outputs": [],
   "source": [
    "def checking(preds,ocr):\n",
    "    check3 = (preds.astype(np.int8)) - (ocr['testlabels'].astype(np.int8))\n",
    "    error = (np.sum(check3.astype(np.bool)))/len(preds)\n",
    "    return error"
   ]
  },
  {
   "cell_type": "code",
   "execution_count": 3,
   "metadata": {
    "collapsed": true
   },
   "outputs": [],
   "source": [
    "def randomsampling(ocr,n, iterations,errormatrix):\n",
    "    for i in n:\n",
    "        for a in range(iterations):\n",
    "            sel = random.sample(range(60000),i)\n",
    "            dataR = np.array(ocr['data'][sel].astype('float'))\n",
    "            labelsR = np.array(ocr['labels'][sel])\n",
    "            preds = functionProblem1(dataR,labelsR,ocr['testdata'])\n",
    "            error = checking(preds,ocr)\n",
    "            errormatrix.append(error)\n",
    "    return errormatrix   "
   ]
  },
  {
   "cell_type": "code",
   "execution_count": 4,
   "metadata": {
    "collapsed": false
   },
   "outputs": [],
   "source": [
    "def functionProblem1(dataR,labelsR,testdata):\n",
    "    dataR = dataR.astype(np.float64)\n",
    "    test2 = np.array(testdata).astype(np.float64)\n",
    "    base = (-2)*(np.dot(dataR,test2.T)) + np.vstack(np.sum(np.square(dataR),axis=1))\n",
    "    base = np.sqrt(base.T + np.vstack(np.sum(np.square(test2),axis=1)))\n",
    "    preds = labelsR[np.argmin(base,axis=1)]\n",
    "    return preds"
   ]
  },
  {
   "cell_type": "code",
   "execution_count": 5,
   "metadata": {
    "collapsed": false
   },
   "outputs": [
    {
     "name": "stdout",
     "output_type": "stream",
     "text": [
      "Error Matrix\n",
      "[1000, 2000, 4000, 8000]\n",
      "[[ 0.1159  0.0854  0.0702  0.0547]\n",
      " [ 0.1091  0.0887  0.0697  0.056 ]\n",
      " [ 0.119   0.0873  0.0743  0.055 ]\n",
      " [ 0.1176  0.0883  0.0659  0.0554]\n",
      " [ 0.1169  0.088   0.0736  0.0577]\n",
      " [ 0.122   0.091   0.0669  0.055 ]\n",
      " [ 0.1149  0.091   0.0654  0.0533]\n",
      " [ 0.1152  0.0907  0.0688  0.056 ]\n",
      " [ 0.123   0.0824  0.0732  0.0546]\n",
      " [ 0.1118  0.0939  0.0695  0.0563]]\n",
      "Standard Errors\n",
      "[ 0.0040195   0.00307898  0.00300774  0.00112606]\n",
      "Sample means\n",
      "[ 0.11654  0.08867  0.06975  0.0554 ]\n",
      "--- 451.4218068122864 seconds ---\n"
     ]
    }
   ],
   "source": [
    "start_time = time.time()\n",
    "\n",
    "n = [1000, 2000, 4000, 8000]\n",
    "iterations = 10\n",
    "errormatrix=[]\n",
    "\n",
    "errormatrix = randomsampling(ocr,n,iterations,errormatrix)\n",
    "\n",
    "errormatrix = np.reshape(np.array(errormatrix),(len(n),iterations)).T\n",
    "stderror = np.std(errormatrix,axis=0)\n",
    "meanerror =  np.mean(errormatrix, axis=0)\n",
    "print(\"Error Matrix\")\n",
    "print(n)\n",
    "print(errormatrix)\n",
    "print(\"Standard Errors\")\n",
    "print(stderror)\n",
    "print(\"Sample means\")\n",
    "print(meanerror)\n",
    "plt.errorbar(n,meanerror,stderror)\n",
    "plt.axis([0,10000,0,0.15])\n",
    "print(\"--- %s seconds ---\" % (time.time() - start_time))\n",
    "plt.show()"
   ]
  },
  {
   "cell_type": "code",
   "execution_count": null,
   "metadata": {
    "collapsed": true
   },
   "outputs": [],
   "source": []
  }
 ],
 "metadata": {
  "anaconda-cloud": {},
  "kernelspec": {
   "display_name": "Python [Root]",
   "language": "python",
   "name": "Python [Root]"
  },
  "language_info": {
   "codemirror_mode": {
    "name": "ipython",
    "version": 3
   },
   "file_extension": ".py",
   "mimetype": "text/x-python",
   "name": "python",
   "nbconvert_exporter": "python",
   "pygments_lexer": "ipython3",
   "version": "3.5.1"
  }
 },
 "nbformat": 4,
 "nbformat_minor": 0
}
