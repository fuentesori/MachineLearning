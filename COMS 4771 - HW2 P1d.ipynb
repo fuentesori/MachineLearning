{
 "cells": [
  {
   "cell_type": "code",
   "execution_count": 1,
   "metadata": {
    "collapsed": false
   },
   "outputs": [],
   "source": [
    "from scipy.io import loadmat\n",
    "import numpy as np\n",
    "from io import StringIO\n",
    "import scipy as sci\n",
    "from scipy import stats\n",
    "from scipy.sparse import csc_matrix\n",
    "from scipy.sparse import csr_matrix\n",
    "from scipy.sparse import hstack\n",
    "from scipy.sparse import vstack\n",
    "news = loadmat('news.mat')\n",
    "data = news['data']\n",
    "labels = news['labels']\n",
    "tdata = news['testdata']\n",
    "tlabels = news['testlabels']"
   ]
  },
  {
   "cell_type": "code",
   "execution_count": 2,
   "metadata": {
    "collapsed": false
   },
   "outputs": [],
   "source": [
    "def problem1 (datatrained, datatested, labelstrained, labelstested, classes):\n",
    "    priors = create_priors(labelstrained,classes)\n",
    "    collapse = create_mus(datatrained,labelstrained,classes)\n",
    "    preds = model(collapse,datatested,priors,classes)\n",
    "    error = check_error(preds,labelstested)\n",
    "    return error"
   ]
  },
  {
   "cell_type": "code",
   "execution_count": 3,
   "metadata": {
    "collapsed": true
   },
   "outputs": [],
   "source": [
    "def create_mus(usedata,uselabels,classes):\n",
    "    #create matrix of laplace smoothed mus - creates a 20 x 60k\n",
    "    indices = [a for a, x in enumerate(uselabels) if x in [0]]\n",
    "    collapse = usedata[indices].sum(axis=0)\n",
    "    collapse = csc_matrix((collapse +1)/(2+len(indices)))\n",
    "    for i in range(1,classes):\n",
    "        indices = [a for a, x in enumerate(uselabels) if x in [i]]\n",
    "        subdata1 = usedata[indices].sum(axis=0)\n",
    "        subdata1 = csc_matrix((subdata1 +1)/(2+len(indices)))\n",
    "        collapse = vstack([csc_matrix(collapse), subdata1],format=\"csc\")\n",
    "    return collapse"
   ]
  },
  {
   "cell_type": "code",
   "execution_count": 4,
   "metadata": {
    "collapsed": true
   },
   "outputs": [],
   "source": [
    "def create_priors(priorslabels,classes):\n",
    "    indicesp = [a for a, x in enumerate(priorslabels) if x in [0]]\n",
    "    priors = [(len(priorslabels[indicesp]))/len(priorslabels)]\n",
    "    for i in range(1,classes):\n",
    "        indicesp = [a for a, x in enumerate(priorslabels) if x in [i]]\n",
    "        subprior = (len(priorslabels[indicesp]))/len(priorslabels)\n",
    "        priors.append(subprior)\n",
    "    priors= csr_matrix(np.log(np.array(priors)))\n",
    "    return priors"
   ]
  },
  {
   "cell_type": "code",
   "execution_count": 5,
   "metadata": {
    "collapsed": false
   },
   "outputs": [],
   "source": [
    "def model(collapse,datamodel,priorsmodel,classes):\n",
    "    #create matrix of (log(1-mus)) - creates a 20 x 60k\n",
    "    minusmu = csc_matrix(np.log(1-(collapse.toarray())))\n",
    "\n",
    "    #create matrix of (logmu - log (1-mu)) - creates a 20 x 60k\n",
    "    minusmu2 = csc_matrix((np.log(collapse.toarray())) - minusmu)\n",
    "    #multiply data by minusmu2 and add to minusmu to obtain Prob(y=1)\n",
    "    firstprob = (datamodel.multiply(minusmu2[0])).sum(axis=1)\n",
    "    summedmu = (minusmu[0].sum(axis=1))+ priorsmodel[0,0]\n",
    "    allprobsY = csc_matrix(firstprob + summedmu)\n",
    "\n",
    "    for y in range(1,classes):\n",
    "        probY = (datamodel.multiply(minusmu2[y])).sum(axis=1)\n",
    "        summedmu = (minusmu[y].sum(axis=1)) + priorsmodel[0,y]\n",
    "        probY = csc_matrix(probY + summedmu)\n",
    "        allprobsY = hstack([allprobsY, probY],format=\"csc\") \n",
    "\n",
    "    preds = (np.argmax(allprobsY.toarray(),axis=1))\n",
    "    return preds"
   ]
  },
  {
   "cell_type": "code",
   "execution_count": 6,
   "metadata": {
    "collapsed": false
   },
   "outputs": [],
   "source": [
    "def check_error(preds,labelscheck):\n",
    "    check = ((preds.astype(np.int8))) - (labelscheck.astype(np.int8))\n",
    "    error = (np.sum(check.astype(np.bool)))/len(preds)\n",
    "    return error"
   ]
  },
  {
   "cell_type": "code",
   "execution_count": 7,
   "metadata": {
    "collapsed": false
   },
   "outputs": [],
   "source": [
    "#pruning test data\n",
    "positiveindices = [a for a, x in enumerate(tlabels) if x in [17,18,19]]\n",
    "negativeindices = [b for b, j in enumerate(tlabels) if j in [1,16,20]]\n",
    "newtdata = vstack((tdata[positiveindices],tdata[negativeindices]), format='csc')\n",
    "newtlabels =(np.concatenate((np.ones(len(tdata[positiveindices].toarray())),np.zeros(len(tdata[negativeindices].toarray()))),axis=0)).astype(np.bool)\n",
    "\n",
    "#pruning training data\n",
    "positiveindices = [a for a, x in enumerate(labels) if x in [17,18,19]]\n",
    "negativeindices = [b for b, j in enumerate(labels) if j in [1,16,20]]\n",
    "newdata = vstack((data[positiveindices],data[negativeindices]), format='csc')\n",
    "newlabels =(np.concatenate((np.ones(len(data[positiveindices].toarray())),np.zeros(len(data[negativeindices].toarray()))),axis=0)).astype(np.bool)"
   ]
  },
  {
   "cell_type": "code",
   "execution_count": 8,
   "metadata": {
    "collapsed": false
   },
   "outputs": [],
   "source": [
    "def findalpha (minusmu2):\n",
    "    alphas = minusmu2[1]-minusmu2[0]\n",
    "    return alphas"
   ]
  },
  {
   "cell_type": "code",
   "execution_count": 9,
   "metadata": {
    "collapsed": false
   },
   "outputs": [],
   "source": [
    "datatrained = newdata\n",
    "labelstrained = newlabels\n",
    "classes = 2\n",
    "collapse = create_mus(datatrained,labelstrained,classes)\n",
    "minusmu = csc_matrix(np.log(1-(collapse.toarray())))\n",
    "minusmu2 = csc_matrix((np.log(collapse.toarray())) - minusmu)\n",
    "alphas = findalpha(minusmu2)\n",
    "alphas = np.argsort(alphas.toarray()[0])\n",
    "low20 = alphas[:20]\n",
    "top20 = alphas[-20:]"
   ]
  },
  {
   "cell_type": "code",
   "execution_count": 10,
   "metadata": {
    "collapsed": false
   },
   "outputs": [],
   "source": [
    "vocab = np.genfromtxt('news.vocab', dtype='str')"
   ]
  },
  {
   "cell_type": "code",
   "execution_count": 11,
   "metadata": {
    "collapsed": false
   },
   "outputs": [
    {
     "name": "stdout",
     "output_type": "stream",
     "text": [
      "47471 gandhi\n",
      "12178 dobb\n",
      "47918 occurrred\n",
      "45016 radioed\n",
      "39353 yearwood\n",
      "28710 parabellum\n",
      "49252 asala\n",
      "50290 pabl\n",
      "49315 appressian\n",
      "49216 kinsley\n",
      "45378 kms\n",
      "49316 armenia\n",
      "49317 sahak\n",
      "49313 argic\n",
      "49314 ohanus\n",
      "49312 serdar\n",
      "49311 tahassusler\n",
      "48903 clintonpz\n",
      "20611 syst\n",
      "38732 sfsu\n",
      "45948 khayash\n",
      "2 name\n",
      "877 do\n",
      "46033 questionnaires\n",
      "2234 already\n",
      "2604 implied\n",
      "3548 perspective\n",
      "896 trimmed\n",
      "9 version\n",
      "897 livesey\n",
      "898 solntze\n",
      "7886 martyred\n",
      "1973 entropy\n",
      "2883 runs\n",
      "7018 alink\n",
      "7017 corruption\n",
      "1880 discussion\n",
      "1923 came\n",
      "3919 mohammad\n",
      "3301 snm\n"
     ]
    }
   ],
   "source": [
    "for y in top20:\n",
    "    print(y,(vocab[y-1]))\n",
    "for y in low20:\n",
    "    print(y,(vocab[y-1]))"
   ]
  },
  {
   "cell_type": "code",
   "execution_count": null,
   "metadata": {
    "collapsed": false
   },
   "outputs": [],
   "source": []
  },
  {
   "cell_type": "code",
   "execution_count": null,
   "metadata": {
    "collapsed": true
   },
   "outputs": [],
   "source": []
  },
  {
   "cell_type": "code",
   "execution_count": null,
   "metadata": {
    "collapsed": true
   },
   "outputs": [],
   "source": []
  }
 ],
 "metadata": {
  "anaconda-cloud": {},
  "kernelspec": {
   "display_name": "Python [Root]",
   "language": "python",
   "name": "Python [Root]"
  },
  "language_info": {
   "codemirror_mode": {
    "name": "ipython",
    "version": 3
   },
   "file_extension": ".py",
   "mimetype": "text/x-python",
   "name": "python",
   "nbconvert_exporter": "python",
   "pygments_lexer": "ipython3",
   "version": "3.5.1"
  }
 },
 "nbformat": 4,
 "nbformat_minor": 0
}
