{
 "cells": [
  {
   "cell_type": "markdown",
   "metadata": {},
   "source": [
    "# Things to do\n",
    "* How does LASSO actually work\n",
    "* How do I make sure its at most 3 non zero entries save for the intercept?!?\n",
    "* Read piazza, notes and books\n",
    "* Cite the scikit documentation"
   ]
  },
  {
   "cell_type": "markdown",
   "metadata": {},
   "source": [
    "# Submission\n",
    "\n",
    "What to submit in your write-up:\n",
    "1. Test average squared loss of OLS estimator.\n",
    "2. Test average squared loss of the sparse linear predictor.\n",
    "3. Names of the variables with non-zero entries in the sparse linear prediction. Report the actual variable names3 (e.g., CRIM, ZN, INDUS).\n",
    "4. Proper citations for any external code you use.\n",
    "\n",
    "No need to submit any code."
   ]
  },
  {
   "cell_type": "code",
   "execution_count": 1,
   "metadata": {
    "collapsed": false
   },
   "outputs": [],
   "source": [
    "from scipy.io import loadmat\n",
    "import sklearn as sklearn\n",
    "from sklearn.linear_model import LinearRegression\n",
    "from sklearn.metrics import mean_squared_error\n",
    "from sklearn.linear_model import Lasso\n",
    "from sklearn.linear_model import Lars"
   ]
  },
  {
   "cell_type": "code",
   "execution_count": 2,
   "metadata": {
    "collapsed": true
   },
   "outputs": [],
   "source": [
    "housing = loadmat('housing.mat')\n",
    "data = housing['data']\n",
    "labels = housing['labels']\n",
    "tdata = housing['testdata']\n",
    "tlabels = housing['testlabels']"
   ]
  },
  {
   "cell_type": "code",
   "execution_count": 3,
   "metadata": {
    "collapsed": false
   },
   "outputs": [
    {
     "name": "stdout",
     "output_type": "stream",
     "text": [
      "train average squared loss:  22.1037987797\n",
      "test average squared loss:  24.4065641284\n"
     ]
    }
   ],
   "source": [
    "#Compute the ordinary least squares (OLS) estimator based on the training data\n",
    "model = LinearRegression(fit_intercept=True, normalize=False, copy_X=True, n_jobs=1)\n",
    "estim = model.fit(data, labels, sample_weight=None)\n",
    "preds = estim.predict(data)\n",
    "avsqerror = mean_squared_error(labels, preds, sample_weight=None, multioutput='uniform_average')\n",
    "print(\"train average squared loss: \",avsqerror)\n",
    "\n",
    "#Compute the average squared loss of the OLS estimator on the test data\n",
    "preds = estim.predict(tdata)\n",
    "avsqerror = mean_squared_error(tlabels, preds, sample_weight=None, multioutput='uniform_average')\n",
    "print(\"test average squared loss: \",avsqerror)"
   ]
  },
  {
   "cell_type": "code",
   "execution_count": 4,
   "metadata": {
    "collapsed": false
   },
   "outputs": [
    {
     "name": "stdout",
     "output_type": "stream",
     "text": [
      "train average squared loss:  36.3524340166\n",
      "[ 0.          0.          0.          0.          0.          0.\n",
      "  1.55107735  0.          0.          0.          0.         -0.54287349\n",
      "  0.         -3.36749643]\n",
      "test average squared loss:  35.6791404934\n"
     ]
    }
   ],
   "source": [
    "#compute a sparse weight vector with at most three nonzero entries (not including the “intercept”)\n",
    "model = Lars(fit_intercept=True, verbose=False, normalize=True, precompute='auto', n_nonzero_coefs=3, \\\n",
    "         eps=2.2204460492503131e-16, copy_X=True, fit_path=True, positive=False)\n",
    "estim = model.fit(data, labels)\n",
    "preds = estim.predict(data)\n",
    "avsqerror = mean_squared_error(labels, preds, sample_weight=None, multioutput='uniform_average')\n",
    "print(\"train average squared loss: \",avsqerror)\n",
    "print(estim.coef_)\n",
    "#Compute the average squared loss of this sparse linear predictor on the test data\n",
    "preds = estim.predict(tdata)\n",
    "avsqerror = mean_squared_error(tlabels, preds, sample_weight=None, multioutput='uniform_average')\n",
    "print(\"test average squared loss: \",avsqerror)"
   ]
  },
  {
   "cell_type": "code",
   "execution_count": 7,
   "metadata": {
    "collapsed": false
   },
   "outputs": [
    {
     "name": "stdout",
     "output_type": "stream",
     "text": [
      "[ 1.          1.95208352 -0.46895923  0.9572188  -0.28495014  1.45333934\n",
      " -0.36887913  0.93484526 -0.87874985  1.75146021  1.56308334  0.81875584\n",
      " -0.37002854  0.42594767]\n"
     ]
    }
   ],
   "source": [
    "1. CRIM: per capita crime rate by town \n",
    "2. ZN: proportion of residential land zoned for lots over 25,000 sq.ft. \n",
    "3. INDUS: proportion of non-retail business acres per town \n",
    "4. CHAS: Charles River dummy variable (= 1 if tract bounds river; 0 otherwise) \n",
    "5. NOX: nitric oxides concentration (parts per 10 million) \n",
    "x6. RM: average number of rooms per dwelling \n",
    "7. AGE: proportion of owner-occupied units built prior to 1940 \n",
    "8. DIS: weighted distances to five Boston employment centres \n",
    "9. RAD: index of accessibility to radial highways \n",
    "10. TAX: full-value property-tax rate per $10,000 \n",
    "x11. PTRATIO: pupil-teacher ratio by town \n",
    "12. B: 1000(Bk - 0.63)^2 where Bk is the proportion of blacks by town \n",
    "x13. LSTAT: % lower status of the population"
   ]
  }
 ],
 "metadata": {
  "kernelspec": {
   "display_name": "Python [Root]",
   "language": "python",
   "name": "Python [Root]"
  },
  "language_info": {
   "codemirror_mode": {
    "name": "ipython",
    "version": 3
   },
   "file_extension": ".py",
   "mimetype": "text/x-python",
   "name": "python",
   "nbconvert_exporter": "python",
   "pygments_lexer": "ipython3",
   "version": "3.5.1"
  }
 },
 "nbformat": 4,
 "nbformat_minor": 0
}
