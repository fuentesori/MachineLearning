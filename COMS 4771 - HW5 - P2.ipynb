{
 "cells": [
  {
   "cell_type": "markdown",
   "metadata": {},
   "source": [
    "# Things to do\n",
    "*\n",
    "*\n",
    "*\n",
    "* "
   ]
  },
  {
   "cell_type": "markdown",
   "metadata": {},
   "source": [
    "# Submission\n",
    "\n",
    "What to submit in your write-up:\n",
    "1. MAE of conditional probability predictions.\n",
    "2. Proper citations for any external code you use.\n",
    "No need to submit any code"
   ]
  },
  {
   "cell_type": "code",
   "execution_count": 20,
   "metadata": {
    "collapsed": true
   },
   "outputs": [],
   "source": [
    "from scipy.io import loadmat\n",
    "import numpy as np\n",
    "import sklearn as sklearn\n",
    "from sklearn.linear_model import LogisticRegression"
   ]
  },
  {
   "cell_type": "code",
   "execution_count": 21,
   "metadata": {
    "collapsed": false
   },
   "outputs": [],
   "source": [
    "hw5 =loadmat('hw5data.mat')\n",
    "data = hw5['data']\n",
    "labels = np.ravel(hw5['labels'])\n",
    "tdata = hw5['testdata']\n",
    "tlabels = np.ravel(hw5['testlabels'])"
   ]
  },
  {
   "cell_type": "code",
   "execution_count": 36,
   "metadata": {
    "collapsed": false,
    "scrolled": true
   },
   "outputs": [
    {
     "name": "stdout",
     "output_type": "stream",
     "text": [
      "[-0.00773186] [-2.52281618  0.15768502 -0.66639796]\n"
     ]
    }
   ],
   "source": [
    "model = LogisticRegression(penalty='l2', dual=False, tol=0.0001, C=1.0, fit_intercept=True, intercept_scaling=1, \\\n",
    "                   class_weight=None, random_state=None, solver='sag', \\\n",
    "                   max_iter=100, multi_class='ovr', verbose=0, warm_start=False, n_jobs=1)\n",
    "estim  = model.fit(data, labels, sample_weight=None)\n",
    "b = np.ravel(estim.coef_)\n",
    "b0 = estim.intercept_\n",
    "print(b0, b)"
   ]
  },
  {
   "cell_type": "code",
   "execution_count": 49,
   "metadata": {
    "collapsed": false
   },
   "outputs": [
    {
     "name": "stdout",
     "output_type": "stream",
     "text": [
      "[ 0.7673114   0.71445278  0.26645627 ...,  0.43454079  0.41072218\n",
      "  0.71543678]\n"
     ]
    }
   ],
   "source": [
    "#calculating conditional probability\n",
    "cprob = 1/(1+np.exp(-b0-np.dot(tdata,b)))\n",
    "print(cprob)\n",
    "subcprob = cprob[0:1024]"
   ]
  },
  {
   "cell_type": "code",
   "execution_count": 41,
   "metadata": {
    "collapsed": false
   },
   "outputs": [],
   "source": [
    "#calc pi\n",
    "p_i = np.zeros(1024)\n",
    "for i in range(128):\n",
    "    for m in range(1024):\n",
    "        p_i[m] += tlabels[1024*i+m]       \n",
    "        \n",
    "    \n",
    "p_i = (1/128)*p_i"
   ]
  },
  {
   "cell_type": "code",
   "execution_count": 54,
   "metadata": {
    "collapsed": false
   },
   "outputs": [
    {
     "name": "stdout",
     "output_type": "stream",
     "text": [
      "0.0390484111183\n"
     ]
    }
   ],
   "source": [
    "#calc MAE\n",
    "MAE = np.absolute(subcprob - p_i)\n",
    "MAE = (1/1024)*np.sum(MAE)\n",
    "print(MAE)"
   ]
  }
 ],
 "metadata": {
  "kernelspec": {
   "display_name": "Python [Root]",
   "language": "python",
   "name": "Python [Root]"
  },
  "language_info": {
   "codemirror_mode": {
    "name": "ipython",
    "version": 3
   },
   "file_extension": ".py",
   "mimetype": "text/x-python",
   "name": "python",
   "nbconvert_exporter": "python",
   "pygments_lexer": "ipython3",
   "version": "3.5.1"
  }
 },
 "nbformat": 4,
 "nbformat_minor": 0
}
